{
 "cells": [
  {
   "cell_type": "markdown",
   "id": "ff428791",
   "metadata": {},
   "source": [
    "# Initialization"
   ]
  },
  {
   "cell_type": "code",
   "execution_count": 1,
   "id": "630dba12",
   "metadata": {
    "execution": {
     "iopub.execute_input": "2022-08-23T15:39:12.155966Z",
     "iopub.status.busy": "2022-08-23T15:39:12.154235Z",
     "iopub.status.idle": "2022-08-23T15:39:12.729498Z",
     "shell.execute_reply": "2022-08-23T15:39:12.729086Z"
    }
   },
   "outputs": [
    {
     "data": {
      "text/plain": [
       "<module 'portfolio.portfolio' from '/home/erik/Documents/script/portfolio/portfolio/portfolio.py'>"
      ]
     },
     "execution_count": 1,
     "metadata": {},
     "output_type": "execute_result"
    }
   ],
   "source": [
    "import matplotlib.pyplot as plt\n",
    "import portfolio.portfolio as pf\n",
    "import imp\n",
    "imp.reload(pf)"
   ]
  },
  {
   "cell_type": "code",
   "execution_count": 2,
   "id": "81989522",
   "metadata": {
    "execution": {
     "iopub.execute_input": "2022-08-23T15:39:12.733389Z",
     "iopub.status.busy": "2022-08-23T15:39:12.732939Z",
     "iopub.status.idle": "2022-08-23T15:39:12.735376Z",
     "shell.execute_reply": "2022-08-23T15:39:12.734878Z"
    }
   },
   "outputs": [],
   "source": [
    "portfolio_json_path = open(r\"_json_path.txt\",\"r\").read().strip()"
   ]
  },
  {
   "cell_type": "code",
   "execution_count": 3,
   "id": "6c159342",
   "metadata": {
    "execution": {
     "iopub.execute_input": "2022-08-23T15:39:12.753064Z",
     "iopub.status.busy": "2022-08-23T15:39:12.747063Z",
     "iopub.status.idle": "2022-08-23T15:39:12.774281Z",
     "shell.execute_reply": "2022-08-23T15:39:12.773872Z"
    },
    "scrolled": false
   },
   "outputs": [],
   "source": [
    "my_port = pf.Portfolio(portfolio_json_path)"
   ]
  },
  {
   "cell_type": "markdown",
   "id": "28f8eef0",
   "metadata": {},
   "source": [
    "# Asset diversification"
   ]
  },
  {
   "cell_type": "markdown",
   "id": "ad93613b",
   "metadata": {},
   "source": [
    "## Holdings per asset"
   ]
  },
  {
   "cell_type": "code",
   "execution_count": 4,
   "id": "7ee68145",
   "metadata": {
    "execution": {
     "iopub.execute_input": "2022-08-23T15:39:12.794602Z",
     "iopub.status.busy": "2022-08-23T15:39:12.794175Z",
     "iopub.status.idle": "2022-08-23T15:39:12.800268Z",
     "shell.execute_reply": "2022-08-23T15:39:12.799942Z"
    }
   },
   "outputs": [
    {
     "data": {
      "text/html": [
       "<div>\n",
       "<style scoped>\n",
       "    .dataframe tbody tr th:only-of-type {\n",
       "        vertical-align: middle;\n",
       "    }\n",
       "\n",
       "    .dataframe tbody tr th {\n",
       "        vertical-align: top;\n",
       "    }\n",
       "\n",
       "    .dataframe thead th {\n",
       "        text-align: right;\n",
       "    }\n",
       "</style>\n",
       "<table border=\"1\" class=\"dataframe\">\n",
       "  <thead>\n",
       "    <tr style=\"text-align: right;\">\n",
       "      <th></th>\n",
       "      <th>asset_name</th>\n",
       "      <th>value</th>\n",
       "      <th>share</th>\n",
       "    </tr>\n",
       "  </thead>\n",
       "  <tbody>\n",
       "    <tr>\n",
       "      <th>0</th>\n",
       "      <td>ETF_1</td>\n",
       "      <td>1104.0</td>\n",
       "      <td>0.008359</td>\n",
       "    </tr>\n",
       "    <tr>\n",
       "      <th>1</th>\n",
       "      <td>ETF_2</td>\n",
       "      <td>1001.0</td>\n",
       "      <td>0.007579</td>\n",
       "    </tr>\n",
       "    <tr>\n",
       "      <th>2</th>\n",
       "      <td>LIQUID</td>\n",
       "      <td>120012.0</td>\n",
       "      <td>0.908721</td>\n",
       "    </tr>\n",
       "    <tr>\n",
       "      <th>3</th>\n",
       "      <td>MF_1</td>\n",
       "      <td>9950.0</td>\n",
       "      <td>0.075341</td>\n",
       "    </tr>\n",
       "  </tbody>\n",
       "</table>\n",
       "</div>"
      ],
      "text/plain": [
       "  asset_name     value     share\n",
       "0      ETF_1    1104.0  0.008359\n",
       "1      ETF_2    1001.0  0.007579\n",
       "2     LIQUID  120012.0  0.908721\n",
       "3       MF_1    9950.0  0.075341"
      ]
     },
     "execution_count": 4,
     "metadata": {},
     "output_type": "execute_result"
    }
   ],
   "source": [
    "ah = my_port.asset_holdings\n",
    "ah['share'] = ah['value']/ah['value'].sum()\n",
    "ah"
   ]
  },
  {
   "cell_type": "markdown",
   "id": "87ecc62a",
   "metadata": {},
   "source": [
    "## Holdings per account"
   ]
  },
  {
   "cell_type": "code",
   "execution_count": 5,
   "id": "57984b8a",
   "metadata": {
    "execution": {
     "iopub.execute_input": "2022-08-23T15:39:12.820001Z",
     "iopub.status.busy": "2022-08-23T15:39:12.810956Z",
     "iopub.status.idle": "2022-08-23T15:39:12.822542Z",
     "shell.execute_reply": "2022-08-23T15:39:12.822880Z"
    }
   },
   "outputs": [
    {
     "data": {
      "text/html": [
       "<div>\n",
       "<style scoped>\n",
       "    .dataframe tbody tr th:only-of-type {\n",
       "        vertical-align: middle;\n",
       "    }\n",
       "\n",
       "    .dataframe tbody tr th {\n",
       "        vertical-align: top;\n",
       "    }\n",
       "\n",
       "    .dataframe thead th {\n",
       "        text-align: right;\n",
       "    }\n",
       "</style>\n",
       "<table border=\"1\" class=\"dataframe\">\n",
       "  <thead>\n",
       "    <tr style=\"text-align: right;\">\n",
       "      <th></th>\n",
       "      <th>account_name</th>\n",
       "      <th>value</th>\n",
       "      <th>share</th>\n",
       "    </tr>\n",
       "  </thead>\n",
       "  <tbody>\n",
       "    <tr>\n",
       "      <th>0</th>\n",
       "      <td>Account_1</td>\n",
       "      <td>2015.0</td>\n",
       "      <td>0.015257</td>\n",
       "    </tr>\n",
       "    <tr>\n",
       "      <th>1</th>\n",
       "      <td>Account_2</td>\n",
       "      <td>130052.0</td>\n",
       "      <td>0.984743</td>\n",
       "    </tr>\n",
       "  </tbody>\n",
       "</table>\n",
       "</div>"
      ],
      "text/plain": [
       "  account_name     value     share\n",
       "0    Account_1    2015.0  0.015257\n",
       "1    Account_2  130052.0  0.984743"
      ]
     },
     "execution_count": 5,
     "metadata": {},
     "output_type": "execute_result"
    }
   ],
   "source": [
    "ach = my_port.account_holdings\n",
    "ach['share'] = ach['value']/ach['value'].sum()\n",
    "ach"
   ]
  },
  {
   "cell_type": "code",
   "execution_count": 6,
   "id": "66a54ff2",
   "metadata": {
    "execution": {
     "iopub.execute_input": "2022-08-23T15:39:12.825469Z",
     "iopub.status.busy": "2022-08-23T15:39:12.825065Z",
     "iopub.status.idle": "2022-08-23T15:39:12.826981Z",
     "shell.execute_reply": "2022-08-23T15:39:12.826572Z"
    }
   },
   "outputs": [],
   "source": [
    "## Holdings per issuer"
   ]
  },
  {
   "cell_type": "code",
   "execution_count": 7,
   "id": "d6289b5a",
   "metadata": {
    "execution": {
     "iopub.execute_input": "2022-08-23T15:39:12.849270Z",
     "iopub.status.busy": "2022-08-23T15:39:12.848741Z",
     "iopub.status.idle": "2022-08-23T15:39:12.850738Z",
     "shell.execute_reply": "2022-08-23T15:39:12.851030Z"
    }
   },
   "outputs": [
    {
     "data": {
      "text/html": [
       "<div>\n",
       "<style scoped>\n",
       "    .dataframe tbody tr th:only-of-type {\n",
       "        vertical-align: middle;\n",
       "    }\n",
       "\n",
       "    .dataframe tbody tr th {\n",
       "        vertical-align: top;\n",
       "    }\n",
       "\n",
       "    .dataframe thead th {\n",
       "        text-align: right;\n",
       "    }\n",
       "</style>\n",
       "<table border=\"1\" class=\"dataframe\">\n",
       "  <thead>\n",
       "    <tr style=\"text-align: right;\">\n",
       "      <th></th>\n",
       "      <th>issuer</th>\n",
       "      <th>value</th>\n",
       "      <th>share</th>\n",
       "    </tr>\n",
       "  </thead>\n",
       "  <tbody>\n",
       "    <tr>\n",
       "      <th>0</th>\n",
       "      <td>MyBank</td>\n",
       "      <td>11054.0</td>\n",
       "      <td>0.0837</td>\n",
       "    </tr>\n",
       "    <tr>\n",
       "      <th>1</th>\n",
       "      <td>unknown</td>\n",
       "      <td>121013.0</td>\n",
       "      <td>0.9163</td>\n",
       "    </tr>\n",
       "  </tbody>\n",
       "</table>\n",
       "</div>"
      ],
      "text/plain": [
       "    issuer     value   share\n",
       "0   MyBank   11054.0  0.0837\n",
       "1  unknown  121013.0  0.9163"
      ]
     },
     "execution_count": 7,
     "metadata": {},
     "output_type": "execute_result"
    }
   ],
   "source": [
    "ah = my_port.collect_issuer()\n",
    "ah['share'] = ah['value']/ah['value'].sum()\n",
    "ah"
   ]
  },
  {
   "cell_type": "markdown",
   "id": "6ada0376",
   "metadata": {},
   "source": [
    "## Distibution of risk"
   ]
  },
  {
   "cell_type": "code",
   "execution_count": 8,
   "id": "24c41a5a",
   "metadata": {
    "execution": {
     "iopub.execute_input": "2022-08-23T15:39:12.870185Z",
     "iopub.status.busy": "2022-08-23T15:39:12.858896Z",
     "iopub.status.idle": "2022-08-23T15:39:12.877405Z",
     "shell.execute_reply": "2022-08-23T15:39:12.877007Z"
    }
   },
   "outputs": [
    {
     "data": {
      "text/html": [
       "<div>\n",
       "<style scoped>\n",
       "    .dataframe tbody tr th:only-of-type {\n",
       "        vertical-align: middle;\n",
       "    }\n",
       "\n",
       "    .dataframe tbody tr th {\n",
       "        vertical-align: top;\n",
       "    }\n",
       "\n",
       "    .dataframe thead th {\n",
       "        text-align: right;\n",
       "    }\n",
       "</style>\n",
       "<table border=\"1\" class=\"dataframe\">\n",
       "  <thead>\n",
       "    <tr style=\"text-align: right;\">\n",
       "      <th></th>\n",
       "      <th>risk_class</th>\n",
       "      <th>value</th>\n",
       "      <th>share</th>\n",
       "    </tr>\n",
       "  </thead>\n",
       "  <tbody>\n",
       "    <tr>\n",
       "      <th>0</th>\n",
       "      <td>0</td>\n",
       "      <td>120012.0</td>\n",
       "      <td>0.908721</td>\n",
       "    </tr>\n",
       "    <tr>\n",
       "      <th>1</th>\n",
       "      <td>2</td>\n",
       "      <td>9950.0</td>\n",
       "      <td>0.075341</td>\n",
       "    </tr>\n",
       "    <tr>\n",
       "      <th>2</th>\n",
       "      <td>3</td>\n",
       "      <td>2105.0</td>\n",
       "      <td>0.015939</td>\n",
       "    </tr>\n",
       "  </tbody>\n",
       "</table>\n",
       "</div>"
      ],
      "text/plain": [
       "   risk_class     value     share\n",
       "0           0  120012.0  0.908721\n",
       "1           2    9950.0  0.075341\n",
       "2           3    2105.0  0.015939"
      ]
     },
     "execution_count": 8,
     "metadata": {},
     "output_type": "execute_result"
    }
   ],
   "source": [
    "rp = my_port.collect_risk_class()\n",
    "rp['share'] = rp['value']/rp['value'].sum()\n",
    "rp"
   ]
  },
  {
   "cell_type": "markdown",
   "id": "81d960ff",
   "metadata": {},
   "source": [
    "## Distribution by country"
   ]
  },
  {
   "cell_type": "code",
   "execution_count": 9,
   "id": "69847f7a",
   "metadata": {
    "execution": {
     "iopub.execute_input": "2022-08-23T15:39:12.887635Z",
     "iopub.status.busy": "2022-08-23T15:39:12.886749Z",
     "iopub.status.idle": "2022-08-23T15:39:12.905374Z",
     "shell.execute_reply": "2022-08-23T15:39:12.905718Z"
    }
   },
   "outputs": [
    {
     "data": {
      "text/html": [
       "<div>\n",
       "<style scoped>\n",
       "    .dataframe tbody tr th:only-of-type {\n",
       "        vertical-align: middle;\n",
       "    }\n",
       "\n",
       "    .dataframe tbody tr th {\n",
       "        vertical-align: top;\n",
       "    }\n",
       "\n",
       "    .dataframe thead th {\n",
       "        text-align: right;\n",
       "    }\n",
       "</style>\n",
       "<table border=\"1\" class=\"dataframe\">\n",
       "  <thead>\n",
       "    <tr style=\"text-align: right;\">\n",
       "      <th></th>\n",
       "      <th>country</th>\n",
       "      <th>value</th>\n",
       "      <th>share</th>\n",
       "    </tr>\n",
       "  </thead>\n",
       "  <tbody>\n",
       "    <tr>\n",
       "      <th>0</th>\n",
       "      <td>China</td>\n",
       "      <td>250.25</td>\n",
       "      <td>0.001895</td>\n",
       "    </tr>\n",
       "    <tr>\n",
       "      <th>1</th>\n",
       "      <td>Germany</td>\n",
       "      <td>1604.50</td>\n",
       "      <td>0.012149</td>\n",
       "    </tr>\n",
       "    <tr>\n",
       "      <th>2</th>\n",
       "      <td>USA</td>\n",
       "      <td>10200.25</td>\n",
       "      <td>0.077235</td>\n",
       "    </tr>\n",
       "    <tr>\n",
       "      <th>3</th>\n",
       "      <td>unknown</td>\n",
       "      <td>120012.00</td>\n",
       "      <td>0.908721</td>\n",
       "    </tr>\n",
       "  </tbody>\n",
       "</table>\n",
       "</div>"
      ],
      "text/plain": [
       "   country      value     share\n",
       "0    China     250.25  0.001895\n",
       "1  Germany    1604.50  0.012149\n",
       "2      USA   10200.25  0.077235\n",
       "3  unknown  120012.00  0.908721"
      ]
     },
     "execution_count": 9,
     "metadata": {},
     "output_type": "execute_result"
    }
   ],
   "source": [
    "c = my_port.collect_country()\n",
    "c['share'] = c['value']/c['value'].sum()\n",
    "c"
   ]
  },
  {
   "cell_type": "code",
   "execution_count": null,
   "id": "b24dac82",
   "metadata": {},
   "outputs": [],
   "source": []
  },
  {
   "cell_type": "code",
   "execution_count": null,
   "id": "501da201",
   "metadata": {},
   "outputs": [],
   "source": []
  }
 ],
 "metadata": {
  "kernelspec": {
   "display_name": "Python 3",
   "language": "python",
   "name": "python3"
  },
  "language_info": {
   "codemirror_mode": {
    "name": "ipython",
    "version": 3
   },
   "file_extension": ".py",
   "mimetype": "text/x-python",
   "name": "python",
   "nbconvert_exporter": "python",
   "pygments_lexer": "ipython3",
   "version": "3.9.6"
  }
 },
 "nbformat": 4,
 "nbformat_minor": 5
}
