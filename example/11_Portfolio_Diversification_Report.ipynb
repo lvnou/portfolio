{
 "cells": [
  {
   "cell_type": "markdown",
   "id": "ff428791",
   "metadata": {},
   "source": [
    "# Initialization"
   ]
  },
  {
   "cell_type": "code",
   "execution_count": 1,
   "id": "630dba12",
   "metadata": {
    "execution": {
     "iopub.execute_input": "2022-08-25T09:39:06.514811Z",
     "iopub.status.busy": "2022-08-25T09:39:06.514273Z",
     "iopub.status.idle": "2022-08-25T09:39:07.015571Z",
     "shell.execute_reply": "2022-08-25T09:39:07.015199Z"
    }
   },
   "outputs": [
    {
     "name": "stderr",
     "output_type": "stream",
     "text": [
      "/home/erik/Documents/script/portfolio/portfolio/asset_performance.py:12: UserWarning: Could not import bf4py. Can't use BoerseFrankfurtAssetPerformance interface.\n",
      "  warnings.warn(\"Could not import bf4py. Can't use BoerseFrankfurtAssetPerformance interface.\")\n"
     ]
    }
   ],
   "source": [
    "import numpy as np\n",
    "import matplotlib.pyplot as plt\n",
    "import portfolio.portfolio as pf\n",
    "from report_util import process_table\n",
    "import imp\n",
    "imp.reload(pf);"
   ]
  },
  {
   "cell_type": "code",
   "execution_count": 2,
   "id": "81989522",
   "metadata": {
    "execution": {
     "iopub.execute_input": "2022-08-25T09:39:07.018293Z",
     "iopub.status.busy": "2022-08-25T09:39:07.017936Z",
     "iopub.status.idle": "2022-08-25T09:39:07.019352Z",
     "shell.execute_reply": "2022-08-25T09:39:07.019619Z"
    }
   },
   "outputs": [],
   "source": [
    "portfolio_json_path = open(r\"_json_path.txt\",\"r\").read().strip()"
   ]
  },
  {
   "cell_type": "code",
   "execution_count": 3,
   "id": "6c159342",
   "metadata": {
    "execution": {
     "iopub.execute_input": "2022-08-25T09:39:07.021905Z",
     "iopub.status.busy": "2022-08-25T09:39:07.021508Z",
     "iopub.status.idle": "2022-08-25T09:39:07.052658Z",
     "shell.execute_reply": "2022-08-25T09:39:07.052231Z"
    },
    "scrolled": false
   },
   "outputs": [],
   "source": [
    "my_port = pf.Portfolio(portfolio_json_path)"
   ]
  },
  {
   "cell_type": "markdown",
   "id": "28f8eef0",
   "metadata": {},
   "source": [
    "# Asset diversification"
   ]
  },
  {
   "cell_type": "markdown",
   "id": "93099ef1",
   "metadata": {},
   "source": [
    "All values are in EUR. All shares are in percent."
   ]
  },
  {
   "cell_type": "markdown",
   "id": "ad93613b",
   "metadata": {},
   "source": [
    "## Holdings per asset"
   ]
  },
  {
   "cell_type": "code",
   "execution_count": 4,
   "id": "7ee68145",
   "metadata": {
    "execution": {
     "iopub.execute_input": "2022-08-25T09:39:07.070683Z",
     "iopub.status.busy": "2022-08-25T09:39:07.070321Z",
     "iopub.status.idle": "2022-08-25T09:39:07.082651Z",
     "shell.execute_reply": "2022-08-25T09:39:07.082326Z"
    }
   },
   "outputs": [
    {
     "data": {
      "text/html": [
       "<div>\n",
       "<style scoped>\n",
       "    .dataframe tbody tr th:only-of-type {\n",
       "        vertical-align: middle;\n",
       "    }\n",
       "\n",
       "    .dataframe tbody tr th {\n",
       "        vertical-align: top;\n",
       "    }\n",
       "\n",
       "    .dataframe thead th {\n",
       "        text-align: right;\n",
       "    }\n",
       "</style>\n",
       "<table border=\"1\" class=\"dataframe\">\n",
       "  <thead>\n",
       "    <tr style=\"text-align: right;\">\n",
       "      <th></th>\n",
       "      <th>asset_name</th>\n",
       "      <th>value</th>\n",
       "      <th>share</th>\n",
       "    </tr>\n",
       "  </thead>\n",
       "  <tbody>\n",
       "    <tr>\n",
       "      <th>0</th>\n",
       "      <td>LIQUID</td>\n",
       "      <td>120012.0</td>\n",
       "      <td>90.87</td>\n",
       "    </tr>\n",
       "    <tr>\n",
       "      <th>1</th>\n",
       "      <td>MF_1</td>\n",
       "      <td>9950.0</td>\n",
       "      <td>7.53</td>\n",
       "    </tr>\n",
       "    <tr>\n",
       "      <th>2</th>\n",
       "      <td>ETF_1</td>\n",
       "      <td>1104.0</td>\n",
       "      <td>0.84</td>\n",
       "    </tr>\n",
       "    <tr>\n",
       "      <th>3</th>\n",
       "      <td>ETF_2</td>\n",
       "      <td>1001.0</td>\n",
       "      <td>0.76</td>\n",
       "    </tr>\n",
       "  </tbody>\n",
       "</table>\n",
       "</div>"
      ],
      "text/plain": [
       "  asset_name     value  share\n",
       "0     LIQUID  120012.0  90.87\n",
       "1       MF_1    9950.0   7.53\n",
       "2      ETF_1    1104.0   0.84\n",
       "3      ETF_2    1001.0   0.76"
      ]
     },
     "execution_count": 4,
     "metadata": {},
     "output_type": "execute_result"
    }
   ],
   "source": [
    "ah = my_port.asset_holdings\n",
    "process_table(ah)"
   ]
  },
  {
   "cell_type": "markdown",
   "id": "87ecc62a",
   "metadata": {},
   "source": [
    "## Holdings per account"
   ]
  },
  {
   "cell_type": "code",
   "execution_count": 5,
   "id": "57984b8a",
   "metadata": {
    "execution": {
     "iopub.execute_input": "2022-08-25T09:39:07.101259Z",
     "iopub.status.busy": "2022-08-25T09:39:07.100809Z",
     "iopub.status.idle": "2022-08-25T09:39:07.103183Z",
     "shell.execute_reply": "2022-08-25T09:39:07.102816Z"
    }
   },
   "outputs": [
    {
     "data": {
      "text/html": [
       "<div>\n",
       "<style scoped>\n",
       "    .dataframe tbody tr th:only-of-type {\n",
       "        vertical-align: middle;\n",
       "    }\n",
       "\n",
       "    .dataframe tbody tr th {\n",
       "        vertical-align: top;\n",
       "    }\n",
       "\n",
       "    .dataframe thead th {\n",
       "        text-align: right;\n",
       "    }\n",
       "</style>\n",
       "<table border=\"1\" class=\"dataframe\">\n",
       "  <thead>\n",
       "    <tr style=\"text-align: right;\">\n",
       "      <th></th>\n",
       "      <th>account_name</th>\n",
       "      <th>value</th>\n",
       "      <th>share</th>\n",
       "    </tr>\n",
       "  </thead>\n",
       "  <tbody>\n",
       "    <tr>\n",
       "      <th>0</th>\n",
       "      <td>Account_2</td>\n",
       "      <td>130052.0</td>\n",
       "      <td>98.47</td>\n",
       "    </tr>\n",
       "    <tr>\n",
       "      <th>1</th>\n",
       "      <td>Account_1</td>\n",
       "      <td>2015.0</td>\n",
       "      <td>1.53</td>\n",
       "    </tr>\n",
       "  </tbody>\n",
       "</table>\n",
       "</div>"
      ],
      "text/plain": [
       "  account_name     value  share\n",
       "0    Account_2  130052.0  98.47\n",
       "1    Account_1    2015.0   1.53"
      ]
     },
     "execution_count": 5,
     "metadata": {},
     "output_type": "execute_result"
    }
   ],
   "source": [
    "ach = my_port.account_holdings\n",
    "process_table(ach)"
   ]
  },
  {
   "cell_type": "markdown",
   "id": "3572f056",
   "metadata": {
    "execution": {
     "iopub.execute_input": "2022-08-23T15:39:12.825469Z",
     "iopub.status.busy": "2022-08-23T15:39:12.825065Z",
     "iopub.status.idle": "2022-08-23T15:39:12.826981Z",
     "shell.execute_reply": "2022-08-23T15:39:12.826572Z"
    }
   },
   "source": [
    "## Holdings per issuer"
   ]
  },
  {
   "cell_type": "code",
   "execution_count": 6,
   "id": "d6289b5a",
   "metadata": {
    "execution": {
     "iopub.execute_input": "2022-08-25T09:39:07.127861Z",
     "iopub.status.busy": "2022-08-25T09:39:07.127393Z",
     "iopub.status.idle": "2022-08-25T09:39:07.129980Z",
     "shell.execute_reply": "2022-08-25T09:39:07.129585Z"
    }
   },
   "outputs": [
    {
     "data": {
      "text/html": [
       "<div>\n",
       "<style scoped>\n",
       "    .dataframe tbody tr th:only-of-type {\n",
       "        vertical-align: middle;\n",
       "    }\n",
       "\n",
       "    .dataframe tbody tr th {\n",
       "        vertical-align: top;\n",
       "    }\n",
       "\n",
       "    .dataframe thead th {\n",
       "        text-align: right;\n",
       "    }\n",
       "</style>\n",
       "<table border=\"1\" class=\"dataframe\">\n",
       "  <thead>\n",
       "    <tr style=\"text-align: right;\">\n",
       "      <th></th>\n",
       "      <th>issuer</th>\n",
       "      <th>value</th>\n",
       "      <th>share</th>\n",
       "    </tr>\n",
       "  </thead>\n",
       "  <tbody>\n",
       "    <tr>\n",
       "      <th>0</th>\n",
       "      <td>unknown</td>\n",
       "      <td>121013.0</td>\n",
       "      <td>91.63</td>\n",
       "    </tr>\n",
       "    <tr>\n",
       "      <th>1</th>\n",
       "      <td>MyBank</td>\n",
       "      <td>11054.0</td>\n",
       "      <td>8.37</td>\n",
       "    </tr>\n",
       "  </tbody>\n",
       "</table>\n",
       "</div>"
      ],
      "text/plain": [
       "    issuer     value  share\n",
       "0  unknown  121013.0  91.63\n",
       "1   MyBank   11054.0   8.37"
      ]
     },
     "execution_count": 6,
     "metadata": {},
     "output_type": "execute_result"
    }
   ],
   "source": [
    "ah = my_port.collect_issuer()\n",
    "process_table(ah)"
   ]
  },
  {
   "cell_type": "markdown",
   "id": "6ada0376",
   "metadata": {},
   "source": [
    "## Distibution of risk"
   ]
  },
  {
   "cell_type": "code",
   "execution_count": 7,
   "id": "24c41a5a",
   "metadata": {
    "execution": {
     "iopub.execute_input": "2022-08-25T09:39:07.152066Z",
     "iopub.status.busy": "2022-08-25T09:39:07.146753Z",
     "iopub.status.idle": "2022-08-25T09:39:07.154987Z",
     "shell.execute_reply": "2022-08-25T09:39:07.154670Z"
    }
   },
   "outputs": [
    {
     "data": {
      "text/html": [
       "<div>\n",
       "<style scoped>\n",
       "    .dataframe tbody tr th:only-of-type {\n",
       "        vertical-align: middle;\n",
       "    }\n",
       "\n",
       "    .dataframe tbody tr th {\n",
       "        vertical-align: top;\n",
       "    }\n",
       "\n",
       "    .dataframe thead th {\n",
       "        text-align: right;\n",
       "    }\n",
       "</style>\n",
       "<table border=\"1\" class=\"dataframe\">\n",
       "  <thead>\n",
       "    <tr style=\"text-align: right;\">\n",
       "      <th></th>\n",
       "      <th>risk_class</th>\n",
       "      <th>value</th>\n",
       "      <th>share</th>\n",
       "    </tr>\n",
       "  </thead>\n",
       "  <tbody>\n",
       "    <tr>\n",
       "      <th>0</th>\n",
       "      <td>0</td>\n",
       "      <td>120012.0</td>\n",
       "      <td>0.908721</td>\n",
       "    </tr>\n",
       "    <tr>\n",
       "      <th>1</th>\n",
       "      <td>2</td>\n",
       "      <td>9950.0</td>\n",
       "      <td>0.075341</td>\n",
       "    </tr>\n",
       "    <tr>\n",
       "      <th>2</th>\n",
       "      <td>3</td>\n",
       "      <td>2105.0</td>\n",
       "      <td>0.015939</td>\n",
       "    </tr>\n",
       "  </tbody>\n",
       "</table>\n",
       "</div>"
      ],
      "text/plain": [
       "   risk_class     value     share\n",
       "0           0  120012.0  0.908721\n",
       "1           2    9950.0  0.075341\n",
       "2           3    2105.0  0.015939"
      ]
     },
     "execution_count": 7,
     "metadata": {},
     "output_type": "execute_result"
    }
   ],
   "source": [
    "rp = my_port.collect_risk_class()\n",
    "rp['share'] = rp['value']/rp['value'].sum()\n",
    "rp"
   ]
  },
  {
   "cell_type": "markdown",
   "id": "81d960ff",
   "metadata": {},
   "source": [
    "## Distribution by country"
   ]
  },
  {
   "cell_type": "code",
   "execution_count": 8,
   "id": "69847f7a",
   "metadata": {
    "execution": {
     "iopub.execute_input": "2022-08-25T09:39:07.178970Z",
     "iopub.status.busy": "2022-08-25T09:39:07.172820Z",
     "iopub.status.idle": "2022-08-25T09:39:07.181346Z",
     "shell.execute_reply": "2022-08-25T09:39:07.180983Z"
    }
   },
   "outputs": [
    {
     "data": {
      "text/html": [
       "<div>\n",
       "<style scoped>\n",
       "    .dataframe tbody tr th:only-of-type {\n",
       "        vertical-align: middle;\n",
       "    }\n",
       "\n",
       "    .dataframe tbody tr th {\n",
       "        vertical-align: top;\n",
       "    }\n",
       "\n",
       "    .dataframe thead th {\n",
       "        text-align: right;\n",
       "    }\n",
       "</style>\n",
       "<table border=\"1\" class=\"dataframe\">\n",
       "  <thead>\n",
       "    <tr style=\"text-align: right;\">\n",
       "      <th></th>\n",
       "      <th>country</th>\n",
       "      <th>value</th>\n",
       "      <th>share</th>\n",
       "    </tr>\n",
       "  </thead>\n",
       "  <tbody>\n",
       "    <tr>\n",
       "      <th>0</th>\n",
       "      <td>unknown</td>\n",
       "      <td>120012.00</td>\n",
       "      <td>90.87</td>\n",
       "    </tr>\n",
       "    <tr>\n",
       "      <th>1</th>\n",
       "      <td>USA</td>\n",
       "      <td>10200.25</td>\n",
       "      <td>7.72</td>\n",
       "    </tr>\n",
       "    <tr>\n",
       "      <th>2</th>\n",
       "      <td>Germany</td>\n",
       "      <td>1604.50</td>\n",
       "      <td>1.21</td>\n",
       "    </tr>\n",
       "    <tr>\n",
       "      <th>3</th>\n",
       "      <td>China</td>\n",
       "      <td>250.25</td>\n",
       "      <td>0.19</td>\n",
       "    </tr>\n",
       "  </tbody>\n",
       "</table>\n",
       "</div>"
      ],
      "text/plain": [
       "   country      value  share\n",
       "0  unknown  120012.00  90.87\n",
       "1      USA   10200.25   7.72\n",
       "2  Germany    1604.50   1.21\n",
       "3    China     250.25   0.19"
      ]
     },
     "execution_count": 8,
     "metadata": {},
     "output_type": "execute_result"
    }
   ],
   "source": [
    "c = my_port.collect_country()\n",
    "process_table(c)"
   ]
  }
 ],
 "metadata": {
  "kernelspec": {
   "display_name": "Python 3",
   "language": "python",
   "name": "python3"
  },
  "language_info": {
   "codemirror_mode": {
    "name": "ipython",
    "version": 3
   },
   "file_extension": ".py",
   "mimetype": "text/x-python",
   "name": "python",
   "nbconvert_exporter": "python",
   "pygments_lexer": "ipython3",
   "version": "3.9.6"
  }
 },
 "nbformat": 4,
 "nbformat_minor": 5
}
