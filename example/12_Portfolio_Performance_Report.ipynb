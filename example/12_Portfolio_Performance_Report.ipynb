{
 "cells": [
  {
   "cell_type": "markdown",
   "id": "ff428791",
   "metadata": {},
   "source": [
    "# Initialization"
   ]
  },
  {
   "cell_type": "code",
   "execution_count": 1,
   "id": "630dba12",
   "metadata": {
    "execution": {
     "iopub.execute_input": "2022-08-23T15:39:14.262901Z",
     "iopub.status.busy": "2022-08-23T15:39:14.260361Z",
     "iopub.status.idle": "2022-08-23T15:39:14.861913Z",
     "shell.execute_reply": "2022-08-23T15:39:14.862243Z"
    }
   },
   "outputs": [],
   "source": [
    "import matplotlib.pyplot as plt\n",
    "import portfolio.portfolio as pf\n",
    "import imp\n",
    "imp.reload(pf)\n",
    "\n",
    "import warnings\n",
    "warnings.filterwarnings(\"always\")"
   ]
  },
  {
   "cell_type": "code",
   "execution_count": 2,
   "id": "81989522",
   "metadata": {
    "execution": {
     "iopub.execute_input": "2022-08-23T15:39:14.866431Z",
     "iopub.status.busy": "2022-08-23T15:39:14.865266Z",
     "iopub.status.idle": "2022-08-23T15:39:14.868624Z",
     "shell.execute_reply": "2022-08-23T15:39:14.868956Z"
    }
   },
   "outputs": [
    {
     "name": "stderr",
     "output_type": "stream",
     "text": [
      "/home/erik/Software/miniconda3/envs/portfolio/lib/python3.9/site-packages/ipykernel/ipkernel.py:287: DeprecationWarning: `should_run_async` will not call `transform_cell` automatically in the future. Please pass the result to `transformed_cell` argument and any exception that happen during thetransform in `preprocessing_exc_tuple` in IPython 7.17 and above.\n",
      "  and should_run_async(code)\n",
      "<ipython-input-2-db95be3e3c2b>:1: ResourceWarning: unclosed file <_io.TextIOWrapper name='_json_path.txt' mode='r' encoding='UTF-8'>\n",
      "  portfolio_json_path = open(r\"_json_path.txt\",\"r\").read().strip()\n",
      "ResourceWarning: Enable tracemalloc to get the object allocation traceback\n"
     ]
    }
   ],
   "source": [
    "portfolio_json_path = open(r\"_json_path.txt\",\"r\").read().strip()\n",
    "start_date = \"2019-01-01\"\n",
    "end_date = \"2022-08-22\"\n",
    "n_dates = 500"
   ]
  },
  {
   "cell_type": "code",
   "execution_count": 3,
   "id": "6c159342",
   "metadata": {
    "execution": {
     "iopub.execute_input": "2022-08-23T15:39:14.873521Z",
     "iopub.status.busy": "2022-08-23T15:39:14.873045Z",
     "iopub.status.idle": "2022-08-23T15:39:14.913450Z",
     "shell.execute_reply": "2022-08-23T15:39:14.913087Z"
    },
    "scrolled": false
   },
   "outputs": [
    {
     "name": "stderr",
     "output_type": "stream",
     "text": [
      "/home/erik/Software/miniconda3/envs/portfolio/lib/python3.9/site-packages/ipykernel/ipkernel.py:287: DeprecationWarning: `should_run_async` will not call `transform_cell` automatically in the future. Please pass the result to `transformed_cell` argument and any exception that happen during thetransform in `preprocessing_exc_tuple` in IPython 7.17 and above.\n",
      "  and should_run_async(code)\n",
      "/home/erik/Documents/script/portfolio/portfolio/__init__.py:12: ResourceWarning: unclosed file <_io.TextIOWrapper name='../test/05_test_portfolio_performance/portfolio.json' mode='r' encoding='UTF-8'>\n",
      "  setts = jstyleson.load(open(json_file_path,\"r\"))\n",
      "ResourceWarning: Enable tracemalloc to get the object allocation traceback\n",
      "/home/erik/Documents/script/portfolio/portfolio/__init__.py:12: ResourceWarning: unclosed file <_io.TextIOWrapper name='../test/05_test_portfolio_performance/account/accounts.json' mode='r' encoding='UTF-8'>\n",
      "  setts = jstyleson.load(open(json_file_path,\"r\"))\n",
      "ResourceWarning: Enable tracemalloc to get the object allocation traceback\n",
      "/home/erik/Documents/script/portfolio/portfolio/transaction.py:37: ResourceWarning: unclosed file <_io.TextIOWrapper name='../test/05_test_portfolio_performance/account/trans_acc_1.txt' mode='r' encoding='UTF-8'>\n",
      "  cont = open(text_file_path, \"r\").read()\n",
      "ResourceWarning: Enable tracemalloc to get the object allocation traceback\n",
      "/home/erik/Documents/script/portfolio/portfolio/transaction.py:37: ResourceWarning: unclosed file <_io.TextIOWrapper name='../test/05_test_portfolio_performance/account/trans_acc_2.txt' mode='r' encoding='UTF-8'>\n",
      "  cont = open(text_file_path, \"r\").read()\n",
      "ResourceWarning: Enable tracemalloc to get the object allocation traceback\n",
      "/home/erik/Documents/script/portfolio/portfolio/__init__.py:12: ResourceWarning: unclosed file <_io.TextIOWrapper name='../test/05_test_portfolio_performance/assets/assets.json' mode='r' encoding='UTF-8'>\n",
      "  setts = jstyleson.load(open(json_file_path,\"r\"))\n",
      "ResourceWarning: Enable tracemalloc to get the object allocation traceback\n",
      "/home/erik/Documents/script/portfolio/portfolio/asset.py:71: ResourceWarning: unclosed file <_io.TextIOWrapper name='../test/05_test_portfolio_performance/assets/etf_2_regions.txt' mode='r' encoding='UTF-8'>\n",
      "  self._region_df = self._parse_df_from_text(open(fname,\"r\").read(), cols=cols, numeric_cols = [\"weight\"])\n",
      "ResourceWarning: Enable tracemalloc to get the object allocation traceback\n"
     ]
    }
   ],
   "source": [
    "my_port = pf.Portfolio(portfolio_json_path)"
   ]
  },
  {
   "cell_type": "markdown",
   "id": "5f058419",
   "metadata": {},
   "source": [
    "# Portfolio performance"
   ]
  },
  {
   "cell_type": "code",
   "execution_count": 4,
   "id": "04383008",
   "metadata": {
    "execution": {
     "iopub.execute_input": "2022-08-23T15:39:14.915422Z",
     "iopub.status.busy": "2022-08-23T15:39:14.915023Z",
     "iopub.status.idle": "2022-08-23T15:39:16.200488Z",
     "shell.execute_reply": "2022-08-23T15:39:16.200795Z"
    },
    "scrolled": false
   },
   "outputs": [
    {
     "name": "stderr",
     "output_type": "stream",
     "text": [
      "/home/erik/Software/miniconda3/envs/portfolio/lib/python3.9/site-packages/ipykernel/ipkernel.py:287: DeprecationWarning: `should_run_async` will not call `transform_cell` automatically in the future. Please pass the result to `transformed_cell` argument and any exception that happen during thetransform in `preprocessing_exc_tuple` in IPython 7.17 and above.\n",
      "  and should_run_async(code)\n",
      "/home/erik/Documents/script/portfolio/portfolio/asset_performance.py:57: UserWarning: Asset performance not available. Assuming constant price of unity.\n",
      "  warnings.warn(\"Asset performance not available. Assuming constant price of unity.\")\n"
     ]
    },
    {
     "name": "stdout",
     "output_type": "stream",
     "text": [
      "Collecting performance for ETF_1\n",
      "Collecting performance for ETF_2\n"
     ]
    },
    {
     "name": "stderr",
     "output_type": "stream",
     "text": [
      "/home/erik/Documents/script/portfolio/portfolio/asset_performance.py:77: UserWarning: investing.com API: More than one result found, choosing first one.\n",
      "Args: {'text': 'a14utf'}\n",
      "Found: {\"id_\": 46003, \"name\": \"BNP Paribas Easy Euro Stoxx 50 UCITS ETF EUR C/D\", \"symbol\": \"ETBB\", \"country\": \"germany\", \"tag\": \"/etfs/easyetf-euro-stoxx-50---a-share?cid=46003\", \"pair_type\": \"etfs\", \"exchange\": \"Xetra\"}\n",
      "  warnings.warn(f\"investing.com API: More than one result found, choosing first one.\\nArgs: {self._search_args}\\nFound: {sr[0]}\")\n"
     ]
    },
    {
     "name": "stdout",
     "output_type": "stream",
     "text": [
      "Collecting performance for MF_1\n",
      "Collecting performance for LIQUID\n"
     ]
    },
    {
     "name": "stderr",
     "output_type": "stream",
     "text": [
      "/home/erik/Documents/script/portfolio/portfolio/asset_performance.py:19: UserWarning: interpolate_datetime: Requested x values are not in given xp bounds. Constant np.interp continuation assumed.\n",
      "  warnings.warn(\"interpolate_datetime: Requested x values are not in given xp bounds. Constant np.interp continuation assumed.\")\n",
      "/home/erik/Documents/script/portfolio/portfolio/asset_performance.py:57: UserWarning: Asset performance not available. Assuming constant price of unity.\n",
      "  warnings.warn(\"Asset performance not available. Assuming constant price of unity.\")\n",
      "/home/erik/Documents/script/portfolio/portfolio/asset_performance.py:57: UserWarning: Asset performance not available. Assuming constant price of unity.\n",
      "  warnings.warn(\"Asset performance not available. Assuming constant price of unity.\")\n"
     ]
    }
   ],
   "source": [
    "cp_d, cp_p = my_port.total_performance(start_date, end_date, n_dates, disp=True) "
   ]
  },
  {
   "cell_type": "code",
   "execution_count": 5,
   "id": "ec30d29d",
   "metadata": {
    "execution": {
     "iopub.execute_input": "2022-08-23T15:39:16.216414Z",
     "iopub.status.busy": "2022-08-23T15:39:16.209840Z",
     "iopub.status.idle": "2022-08-23T15:39:16.218535Z",
     "shell.execute_reply": "2022-08-23T15:39:16.218885Z"
    }
   },
   "outputs": [
    {
     "name": "stdout",
     "output_type": "stream",
     "text": [
      "Growth start -> end = 0.13246264094781002%\n",
      "Most recent total portfolio value = 132067.0 €\n"
     ]
    },
    {
     "name": "stderr",
     "output_type": "stream",
     "text": [
      "/home/erik/Software/miniconda3/envs/portfolio/lib/python3.9/site-packages/ipykernel/ipkernel.py:287: DeprecationWarning: `should_run_async` will not call `transform_cell` automatically in the future. Please pass the result to `transformed_cell` argument and any exception that happen during thetransform in `preprocessing_exc_tuple` in IPython 7.17 and above.\n",
      "  and should_run_async(code)\n"
     ]
    }
   ],
   "source": [
    "print(f\"Growth start -> end = {(cp_p[-1]-cp_p[0])/cp_p[0]*100}%\")\n",
    "print(f\"Most recent total portfolio value = {my_port.account_holdings['value'].sum()} €\")"
   ]
  },
  {
   "cell_type": "code",
   "execution_count": null,
   "id": "e8b8ffeb",
   "metadata": {},
   "outputs": [],
   "source": []
  }
 ],
 "metadata": {
  "kernelspec": {
   "display_name": "Python 3",
   "language": "python",
   "name": "python3"
  },
  "language_info": {
   "codemirror_mode": {
    "name": "ipython",
    "version": 3
   },
   "file_extension": ".py",
   "mimetype": "text/x-python",
   "name": "python",
   "nbconvert_exporter": "python",
   "pygments_lexer": "ipython3",
   "version": "3.9.6"
  }
 },
 "nbformat": 4,
 "nbformat_minor": 5
}
