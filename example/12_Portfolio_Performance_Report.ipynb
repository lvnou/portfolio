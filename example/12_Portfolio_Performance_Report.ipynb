{
 "cells": [
  {
   "cell_type": "markdown",
   "id": "ff428791",
   "metadata": {},
   "source": [
    "# Initialization"
   ]
  },
  {
   "cell_type": "code",
   "execution_count": 1,
   "id": "630dba12",
   "metadata": {
    "execution": {
     "iopub.execute_input": "2022-08-25T09:39:08.317693Z",
     "iopub.status.busy": "2022-08-25T09:39:08.317237Z",
     "iopub.status.idle": "2022-08-25T09:39:08.821842Z",
     "shell.execute_reply": "2022-08-25T09:39:08.821452Z"
    }
   },
   "outputs": [
    {
     "name": "stderr",
     "output_type": "stream",
     "text": [
      "/home/erik/Documents/script/portfolio/portfolio/asset_performance.py:12: UserWarning: Could not import bf4py. Can't use BoerseFrankfurtAssetPerformance interface.\n",
      "  warnings.warn(\"Could not import bf4py. Can't use BoerseFrankfurtAssetPerformance interface.\")\n"
     ]
    }
   ],
   "source": [
    "import numpy as np\n",
    "import matplotlib.pyplot as plt\n",
    "import portfolio.portfolio as pf\n",
    "import imp\n",
    "imp.reload(pf);\n",
    "\n",
    "import warnings\n",
    "warnings.filterwarnings(\"always\");"
   ]
  },
  {
   "cell_type": "code",
   "execution_count": 2,
   "id": "81989522",
   "metadata": {
    "execution": {
     "iopub.execute_input": "2022-08-25T09:39:08.824467Z",
     "iopub.status.busy": "2022-08-25T09:39:08.824114Z",
     "iopub.status.idle": "2022-08-25T09:39:08.828611Z",
     "shell.execute_reply": "2022-08-25T09:39:08.828259Z"
    }
   },
   "outputs": [
    {
     "name": "stderr",
     "output_type": "stream",
     "text": [
      "/home/erik/Software/miniconda3/envs/portfolio/lib/python3.9/site-packages/ipykernel/ipkernel.py:287: DeprecationWarning: `should_run_async` will not call `transform_cell` automatically in the future. Please pass the result to `transformed_cell` argument and any exception that happen during thetransform in `preprocessing_exc_tuple` in IPython 7.17 and above.\n",
      "  and should_run_async(code)\n",
      "<ipython-input-2-db95be3e3c2b>:1: ResourceWarning: unclosed file <_io.TextIOWrapper name='_json_path.txt' mode='r' encoding='UTF-8'>\n",
      "  portfolio_json_path = open(r\"_json_path.txt\",\"r\").read().strip()\n",
      "ResourceWarning: Enable tracemalloc to get the object allocation traceback\n"
     ]
    }
   ],
   "source": [
    "portfolio_json_path = open(r\"_json_path.txt\",\"r\").read().strip()\n",
    "start_date = \"2019-01-01\"\n",
    "end_date = \"2022-08-22\"\n",
    "n_dates = 500"
   ]
  },
  {
   "cell_type": "code",
   "execution_count": 3,
   "id": "6c159342",
   "metadata": {
    "execution": {
     "iopub.execute_input": "2022-08-25T09:39:08.831051Z",
     "iopub.status.busy": "2022-08-25T09:39:08.830675Z",
     "iopub.status.idle": "2022-08-25T09:39:08.860821Z",
     "shell.execute_reply": "2022-08-25T09:39:08.860459Z"
    },
    "scrolled": false
   },
   "outputs": [
    {
     "name": "stderr",
     "output_type": "stream",
     "text": [
      "/home/erik/Software/miniconda3/envs/portfolio/lib/python3.9/site-packages/ipykernel/ipkernel.py:287: DeprecationWarning: `should_run_async` will not call `transform_cell` automatically in the future. Please pass the result to `transformed_cell` argument and any exception that happen during thetransform in `preprocessing_exc_tuple` in IPython 7.17 and above.\n",
      "  and should_run_async(code)\n",
      "/home/erik/Documents/script/portfolio/portfolio/__init__.py:12: ResourceWarning: unclosed file <_io.TextIOWrapper name='../test/05_test_portfolio_performance/portfolio.json' mode='r' encoding='UTF-8'>\n",
      "  setts = jstyleson.load(open(json_file_path,\"r\"))\n",
      "ResourceWarning: Enable tracemalloc to get the object allocation traceback\n",
      "/home/erik/Documents/script/portfolio/portfolio/__init__.py:12: ResourceWarning: unclosed file <_io.TextIOWrapper name='../test/05_test_portfolio_performance/account/accounts.json' mode='r' encoding='UTF-8'>\n",
      "  setts = jstyleson.load(open(json_file_path,\"r\"))\n",
      "ResourceWarning: Enable tracemalloc to get the object allocation traceback\n",
      "/home/erik/Documents/script/portfolio/portfolio/transaction.py:37: ResourceWarning: unclosed file <_io.TextIOWrapper name='../test/05_test_portfolio_performance/account/trans_acc_1.txt' mode='r' encoding='UTF-8'>\n",
      "  cont = open(text_file_path, \"r\").read()\n",
      "ResourceWarning: Enable tracemalloc to get the object allocation traceback\n",
      "/home/erik/Documents/script/portfolio/portfolio/transaction.py:37: ResourceWarning: unclosed file <_io.TextIOWrapper name='../test/05_test_portfolio_performance/account/trans_acc_2.txt' mode='r' encoding='UTF-8'>\n",
      "  cont = open(text_file_path, \"r\").read()\n",
      "ResourceWarning: Enable tracemalloc to get the object allocation traceback\n",
      "/home/erik/Documents/script/portfolio/portfolio/__init__.py:12: ResourceWarning: unclosed file <_io.TextIOWrapper name='../test/05_test_portfolio_performance/assets/assets.json' mode='r' encoding='UTF-8'>\n",
      "  setts = jstyleson.load(open(json_file_path,\"r\"))\n",
      "ResourceWarning: Enable tracemalloc to get the object allocation traceback\n",
      "/home/erik/Documents/script/portfolio/portfolio/asset.py:71: ResourceWarning: unclosed file <_io.TextIOWrapper name='../test/05_test_portfolio_performance/assets/etf_2_regions.txt' mode='r' encoding='UTF-8'>\n",
      "  self._region_df = self._parse_df_from_text(open(fname,\"r\").read(), cols=cols, numeric_cols = [\"weight\"])\n",
      "ResourceWarning: Enable tracemalloc to get the object allocation traceback\n"
     ]
    }
   ],
   "source": [
    "my_port = pf.Portfolio(portfolio_json_path)"
   ]
  },
  {
   "cell_type": "markdown",
   "id": "5f058419",
   "metadata": {},
   "source": [
    "# Portfolio performance"
   ]
  },
  {
   "cell_type": "code",
   "execution_count": 4,
   "id": "04383008",
   "metadata": {
    "execution": {
     "iopub.execute_input": "2022-08-25T09:39:08.878182Z",
     "iopub.status.busy": "2022-08-25T09:39:08.870314Z",
     "iopub.status.idle": "2022-08-25T09:39:14.024456Z",
     "shell.execute_reply": "2022-08-25T09:39:14.024878Z"
    },
    "scrolled": false
   },
   "outputs": [
    {
     "name": "stderr",
     "output_type": "stream",
     "text": [
      "/home/erik/Software/miniconda3/envs/portfolio/lib/python3.9/site-packages/ipykernel/ipkernel.py:287: DeprecationWarning: `should_run_async` will not call `transform_cell` automatically in the future. Please pass the result to `transformed_cell` argument and any exception that happen during thetransform in `preprocessing_exc_tuple` in IPython 7.17 and above.\n",
      "  and should_run_async(code)\n",
      "/home/erik/Documents/script/portfolio/portfolio/asset_performance.py:60: UserWarning: Asset performance not available. Assuming constant price of unity.\n",
      "  warnings.warn(\"Asset performance not available. Assuming constant price of unity.\")\n"
     ]
    },
    {
     "name": "stdout",
     "output_type": "stream",
     "text": [
      "Collecting performance for ETF_1\n",
      "Collecting performance for ETF_2\n"
     ]
    },
    {
     "name": "stderr",
     "output_type": "stream",
     "text": [
      "/home/erik/Software/miniconda3/envs/portfolio/lib/python3.9/site-packages/tessa/coingecko_search.py:12: ResourceWarning: unclosed <ssl.SSLSocket fd=42, family=AddressFamily.AF_INET6, type=SocketKind.SOCK_STREAM, proto=6, laddr=('2003:c8:7f2a:7454:c476:8559:c285:7650', 58696, 0, 0), raddr=('2606:4700::6812:1d78', 443, 0, 0)>\n",
      "  return CoinGeckoAPI().get_coins_list()\n",
      "ResourceWarning: Enable tracemalloc to get the object allocation traceback\n",
      "/home/erik/Documents/script/portfolio/portfolio/asset_performance.py:79: UserWarning: investing.com API: More than one result found, choosing first one.\n",
      "Args: {'text': 'a14utf'}\n",
      "Found: {\"id_\": 46003, \"name\": \"BNP Paribas Easy Euro Stoxx 50 UCITS ETF EUR C/D\", \"symbol\": \"ETBB\", \"country\": \"germany\", \"tag\": \"/etfs/easyetf-euro-stoxx-50---a-share?cid=46003\", \"pair_type\": \"etfs\", \"exchange\": \"Xetra\"}\n",
      "  warnings.warn(f\"investing.com API: More than one result found, choosing first one.\\nArgs: {self._search_args}\\nFound: {sr[0]}\")\n"
     ]
    },
    {
     "name": "stdout",
     "output_type": "stream",
     "text": [
      "    2 of investing_searchobj_other\n",
      "Collecting performance for MF_1\n",
      "Collecting performance for LIQUID\n"
     ]
    },
    {
     "name": "stderr",
     "output_type": "stream",
     "text": [
      "/home/erik/Documents/script/portfolio/portfolio/asset_performance.py:60: UserWarning: Asset performance not available. Assuming constant price of unity.\n",
      "  warnings.warn(\"Asset performance not available. Assuming constant price of unity.\")\n",
      "/home/erik/Documents/script/portfolio/portfolio/asset_performance.py:60: UserWarning: Asset performance not available. Assuming constant price of unity.\n",
      "  warnings.warn(\"Asset performance not available. Assuming constant price of unity.\")\n"
     ]
    }
   ],
   "source": [
    "cp_d, cp_p = my_port.total_performance(start_date, end_date, n_dates, disp=True) "
   ]
  },
  {
   "cell_type": "code",
   "execution_count": 5,
   "id": "ec30d29d",
   "metadata": {
    "execution": {
     "iopub.execute_input": "2022-08-25T09:39:14.042083Z",
     "iopub.status.busy": "2022-08-25T09:39:14.041636Z",
     "iopub.status.idle": "2022-08-25T09:39:14.043531Z",
     "shell.execute_reply": "2022-08-25T09:39:14.043853Z"
    }
   },
   "outputs": [
    {
     "name": "stdout",
     "output_type": "stream",
     "text": [
      "Growth start -> end = 0.13262948160876165%\n",
      "Most recent total portfolio value = 132067.0 €\n"
     ]
    },
    {
     "name": "stderr",
     "output_type": "stream",
     "text": [
      "/home/erik/Software/miniconda3/envs/portfolio/lib/python3.9/site-packages/ipykernel/ipkernel.py:287: DeprecationWarning: `should_run_async` will not call `transform_cell` automatically in the future. Please pass the result to `transformed_cell` argument and any exception that happen during thetransform in `preprocessing_exc_tuple` in IPython 7.17 and above.\n",
      "  and should_run_async(code)\n"
     ]
    }
   ],
   "source": [
    "total_growth = (cp_p[-1]-cp_p[0])/cp_p[0]*100\n",
    "print(f\"Growth start -> end = {total_growth}%\")\n",
    "total_hold = my_port.account_holdings['value'].sum()\n",
    "total_hold = np.round(float(total_hold),2)\n",
    "print(f\"Most recent total portfolio value = {total_hold} €\")"
   ]
  }
 ],
 "metadata": {
  "kernelspec": {
   "display_name": "Python 3",
   "language": "python",
   "name": "python3"
  },
  "language_info": {
   "codemirror_mode": {
    "name": "ipython",
    "version": 3
   },
   "file_extension": ".py",
   "mimetype": "text/x-python",
   "name": "python",
   "nbconvert_exporter": "python",
   "pygments_lexer": "ipython3",
   "version": "3.9.6"
  }
 },
 "nbformat": 4,
 "nbformat_minor": 5
}
